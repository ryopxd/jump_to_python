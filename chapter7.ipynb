{
  "nbformat": 4,
  "nbformat_minor": 0,
  "metadata": {
    "colab": {
      "name": "7장 실습.ipynb",
      "provenance": [],
      "authorship_tag": "ABX9TyPCG6J6JjmKzE6NmJ+5MvxL",
      "include_colab_link": true
    },
    "kernelspec": {
      "name": "python3",
      "display_name": "Python 3"
    },
    "language_info": {
      "name": "python"
    }
  },
  "cells": [
    {
      "cell_type": "markdown",
      "metadata": {
        "id": "view-in-github",
        "colab_type": "text"
      },
      "source": [
        "<a href=\"https://colab.research.google.com/github/ryopxd/jump_to_python/blob/main/chapter7.ipynb\" target=\"_parent\"><img src=\"https://colab.research.google.com/assets/colab-badge.svg\" alt=\"Open In Colab\"/></a>"
      ]
    },
    {
      "cell_type": "markdown",
      "source": [
        "# 정규 표현식"
      ],
      "metadata": {
        "id": "M3iQ-mmPbLY1"
      }
    },
    {
      "cell_type": "code",
      "source": [
        "import re\n",
        "p = re.compile('ab*')"
      ],
      "metadata": {
        "id": "fPDT-yjNbjlM"
      },
      "execution_count": null,
      "outputs": []
    },
    {
      "cell_type": "code",
      "source": [
        "p = re.compile('[a-z]+')"
      ],
      "metadata": {
        "id": "VvAFDOEzbaLv"
      },
      "execution_count": null,
      "outputs": []
    },
    {
      "cell_type": "code",
      "source": [
        "print(p)"
      ],
      "metadata": {
        "colab": {
          "base_uri": "https://localhost:8080/"
        },
        "id": "3NeZRGeccH7d",
        "outputId": "f7170f82-812f-40b0-94d2-75bdb1e95650"
      },
      "execution_count": null,
      "outputs": [
        {
          "output_type": "stream",
          "name": "stdout",
          "text": [
            "re.compile('[a-z]+')\n"
          ]
        }
      ]
    },
    {
      "cell_type": "markdown",
      "source": [
        "match"
      ],
      "metadata": {
        "id": "drrKRk61c9ee"
      }
    },
    {
      "cell_type": "code",
      "source": [
        "m = p.match(\"python\")\n",
        "print(m)"
      ],
      "metadata": {
        "colab": {
          "base_uri": "https://localhost:8080/"
        },
        "id": "nLQpfgLZcjhk",
        "outputId": "657bcb1b-90dd-49de-de22-8a66b8e1007d"
      },
      "execution_count": null,
      "outputs": [
        {
          "output_type": "stream",
          "name": "stdout",
          "text": [
            "<re.Match object; span=(0, 6), match='python'>\n"
          ]
        }
      ]
    },
    {
      "cell_type": "code",
      "source": [
        "m = p.match(\"3 python\")\n",
        "print(m)"
      ],
      "metadata": {
        "colab": {
          "base_uri": "https://localhost:8080/"
        },
        "id": "gKq4_EGSdFFy",
        "outputId": "a5f29f44-1804-4d7a-b3c6-9bd0e05005e9"
      },
      "execution_count": null,
      "outputs": [
        {
          "output_type": "stream",
          "name": "stdout",
          "text": [
            "None\n"
          ]
        }
      ]
    },
    {
      "cell_type": "markdown",
      "source": [
        "search"
      ],
      "metadata": {
        "id": "XZyhh8oUgM6r"
      }
    },
    {
      "cell_type": "code",
      "source": [
        "m = p.search(\"python\")\n",
        "print(m)"
      ],
      "metadata": {
        "colab": {
          "base_uri": "https://localhost:8080/"
        },
        "id": "OI1ajgipgEzq",
        "outputId": "55e072a8-737c-4f3b-ade6-2a177ba9dc29"
      },
      "execution_count": null,
      "outputs": [
        {
          "output_type": "stream",
          "name": "stdout",
          "text": [
            "<re.Match object; span=(0, 6), match='python'>\n"
          ]
        }
      ]
    },
    {
      "cell_type": "markdown",
      "source": [
        "finditer"
      ],
      "metadata": {
        "id": "5oLAtrLhC56a"
      }
    },
    {
      "cell_type": "code",
      "source": [
        "result = p.finditer(\"life is too short\")\n",
        "print(result)"
      ],
      "metadata": {
        "colab": {
          "base_uri": "https://localhost:8080/"
        },
        "id": "LkHDT21LgTCA",
        "outputId": "7c283140-5939-4843-d3ce-6f03d7c58c78"
      },
      "execution_count": null,
      "outputs": [
        {
          "output_type": "stream",
          "name": "stdout",
          "text": [
            "<callable_iterator object at 0x7efd016f6c10>\n"
          ]
        }
      ]
    },
    {
      "cell_type": "code",
      "source": [
        "for r in result: print(r)"
      ],
      "metadata": {
        "colab": {
          "base_uri": "https://localhost:8080/"
        },
        "id": "fs2WGbJyDGCH",
        "outputId": "54e4121f-d124-44c2-a6a2-f0a4af181c5b"
      },
      "execution_count": null,
      "outputs": [
        {
          "output_type": "stream",
          "name": "stdout",
          "text": [
            "<re.Match object; span=(0, 4), match='life'>\n",
            "<re.Match object; span=(5, 7), match='is'>\n",
            "<re.Match object; span=(8, 11), match='too'>\n",
            "<re.Match object; span=(12, 17), match='short'>\n"
          ]
        }
      ]
    },
    {
      "cell_type": "markdown",
      "source": [
        "match객체의 메서드"
      ],
      "metadata": {
        "id": "tt-x5BQKDl7-"
      }
    },
    {
      "cell_type": "code",
      "source": [
        "# group() - 매치된 문자열을 돌려준다.\n",
        "# start() - 매치된 문자열의 시작 위치를 돌려준다.\n",
        "# end() - 매치된 문자열의 끝 위치를 돌려준다.\n",
        "# span() - 매치된 문자열의 (시작, 끝)에 해당하는 튜플을 돌려준다."
      ],
      "metadata": {
        "id": "lkfAuQtODlo2"
      },
      "execution_count": null,
      "outputs": []
    },
    {
      "cell_type": "code",
      "source": [
        "m = p.match(\"python\")\n",
        "print(m.group())\n",
        "print(m.start())\n",
        "print(m.end())\n",
        "print(m.span())"
      ],
      "metadata": {
        "colab": {
          "base_uri": "https://localhost:8080/"
        },
        "id": "k_uwjaKLDK6R",
        "outputId": "16af8cbe-1b96-4819-d1af-b2efac1eff1d"
      },
      "execution_count": null,
      "outputs": [
        {
          "output_type": "stream",
          "name": "stdout",
          "text": [
            "python\n",
            "0\n",
            "6\n",
            "(0, 6)\n"
          ]
        }
      ]
    },
    {
      "cell_type": "code",
      "source": [
        ""
      ],
      "metadata": {
        "id": "LMxDxgK_EM5x"
      },
      "execution_count": null,
      "outputs": []
    }
  ]
}