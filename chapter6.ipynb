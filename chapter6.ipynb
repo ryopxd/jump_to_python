{
  "nbformat": 4,
  "nbformat_minor": 0,
  "metadata": {
    "colab": {
      "name": "6장 실습.ipynb",
      "provenance": [],
      "authorship_tag": "ABX9TyMM3fa9H1ccGOANC9hYvrAw",
      "include_colab_link": true
    },
    "kernelspec": {
      "name": "python3",
      "display_name": "Python 3"
    },
    "language_info": {
      "name": "python"
    }
  },
  "cells": [
    {
      "cell_type": "markdown",
      "metadata": {
        "id": "view-in-github",
        "colab_type": "text"
      },
      "source": [
        "<a href=\"https://colab.research.google.com/github/ryopxd/jump_to_python/blob/main/chapter6.ipynb\" target=\"_parent\"><img src=\"https://colab.research.google.com/assets/colab-badge.svg\" alt=\"Open In Colab\"/></a>"
      ]
    },
    {
      "cell_type": "markdown",
      "source": [
        "6-1"
      ],
      "metadata": {
        "id": "xeVgk5B0LkUK"
      }
    },
    {
      "cell_type": "code",
      "execution_count": null,
      "metadata": {
        "id": "NihzGAInKnhi"
      },
      "outputs": [],
      "source": [
        "def GuGu(n):\n",
        "  result = []\n",
        "  i = 1\n",
        "  while i < 10:\n",
        "    result.append(n * i)\n",
        "    i += 1\n",
        "  return result"
      ]
    },
    {
      "cell_type": "code",
      "source": [
        "print(GuGu(2))"
      ],
      "metadata": {
        "colab": {
          "base_uri": "https://localhost:8080/"
        },
        "id": "kvHbnJK0LaTA",
        "outputId": "25c65eef-4d9d-4938-eb62-1bf0bd731982"
      },
      "execution_count": null,
      "outputs": [
        {
          "output_type": "stream",
          "name": "stdout",
          "text": [
            "[2, 4, 6, 8, 10, 12, 14, 16, 18]\n"
          ]
        }
      ]
    },
    {
      "cell_type": "markdown",
      "source": [
        "6-2"
      ],
      "metadata": {
        "id": "f6H21xLYLmZB"
      }
    },
    {
      "cell_type": "code",
      "source": [
        "result = 0\n",
        "for n in range(1, 1000):\n",
        "  if n % 3 == 0 or n % 5 == 0:\n",
        "    result += n \n",
        "print(result)"
      ],
      "metadata": {
        "colab": {
          "base_uri": "https://localhost:8080/"
        },
        "id": "ng-3IpdBLd8g",
        "outputId": "6cfd9f5b-18d3-4d94-f5fc-62cc785f4dbc"
      },
      "execution_count": null,
      "outputs": [
        {
          "output_type": "stream",
          "name": "stdout",
          "text": [
            "233168\n"
          ]
        }
      ]
    },
    {
      "cell_type": "markdown",
      "source": [
        "6-3"
      ],
      "metadata": {
        "id": "l49A0eR8UXW3"
      }
    },
    {
      "cell_type": "code",
      "source": [
        "def getTotalPages(m, n):\n",
        "  if m % n == 0:\n",
        "    return m // n\n",
        "  else:\n",
        "    return m // n + 1\n",
        "\n",
        "print(getTotalPages(5, 10))\n",
        "print(getTotalPages(15, 10))\n",
        "print(getTotalPages(25, 10))\n",
        "print(getTotalPages(30, 10))"
      ],
      "metadata": {
        "id": "pQ2lbnflL1tf",
        "colab": {
          "base_uri": "https://localhost:8080/"
        },
        "outputId": "b9356d04-b7f8-4364-b7fb-c70945281b1b"
      },
      "execution_count": null,
      "outputs": [
        {
          "output_type": "stream",
          "name": "stdout",
          "text": [
            "1\n",
            "2\n",
            "3\n",
            "3\n"
          ]
        }
      ]
    },
    {
      "cell_type": "markdown",
      "source": [
        "6-4"
      ],
      "metadata": {
        "id": "UpjboWHQVESW"
      }
    },
    {
      "cell_type": "code",
      "source": [
        "import sys\n",
        "\n",
        "option = sys.argv[1]\n",
        "\n",
        "if option == '-a':\n",
        "  memo = sys.argv[2]\n",
        "  f = open('memo.txt', 'a')\n",
        "  f.write(memo)\n",
        "  f.write('₩n')\n",
        "  f.close()\n"
      ],
      "metadata": {
        "id": "bJCDxso-U7Bb"
      },
      "execution_count": null,
      "outputs": []
    },
    {
      "cell_type": "markdown",
      "source": [
        "6-5"
      ],
      "metadata": {
        "id": "txkXEZ6QW8fZ"
      }
    },
    {
      "cell_type": "code",
      "source": [
        "import sys\n",
        "\n",
        "src = sys.argv[1]\n",
        "dst = sys.argv[2]\n",
        "\n",
        "f = open(src)\n",
        "tab_content = f.read()\n",
        "f.close()\n",
        "\n",
        "space_content = tab_content.replace(\"₩t\", \" \"*4)\n",
        "\n",
        "f = open(dst, 'w')\n",
        "f.write(space_content)\n",
        "f.colse()"
      ],
      "metadata": {
        "id": "J-r5YLBHWcE8",
        "colab": {
          "base_uri": "https://localhost:8080/",
          "height": 243
        },
        "outputId": "13d583c5-8a08-486b-f1dc-92fbbf2098a5"
      },
      "execution_count": null,
      "outputs": [
        {
          "output_type": "error",
          "ename": "FileNotFoundError",
          "evalue": "ignored",
          "traceback": [
            "\u001b[0;31m---------------------------------------------------------------------------\u001b[0m",
            "\u001b[0;31mFileNotFoundError\u001b[0m                         Traceback (most recent call last)",
            "\u001b[0;32m<ipython-input-10-0edd1c06ee95>\u001b[0m in \u001b[0;36m<module>\u001b[0;34m()\u001b[0m\n\u001b[1;32m      4\u001b[0m \u001b[0mdst\u001b[0m \u001b[0;34m=\u001b[0m \u001b[0msys\u001b[0m\u001b[0;34m.\u001b[0m\u001b[0margv\u001b[0m\u001b[0;34m[\u001b[0m\u001b[0;36m2\u001b[0m\u001b[0;34m]\u001b[0m\u001b[0;34m\u001b[0m\u001b[0;34m\u001b[0m\u001b[0m\n\u001b[1;32m      5\u001b[0m \u001b[0;34m\u001b[0m\u001b[0m\n\u001b[0;32m----> 6\u001b[0;31m \u001b[0mf\u001b[0m \u001b[0;34m=\u001b[0m \u001b[0mopen\u001b[0m\u001b[0;34m(\u001b[0m\u001b[0msrc\u001b[0m\u001b[0;34m,\u001b[0m \u001b[0;34m'r'\u001b[0m\u001b[0;34m)\u001b[0m\u001b[0;34m\u001b[0m\u001b[0;34m\u001b[0m\u001b[0m\n\u001b[0m\u001b[1;32m      7\u001b[0m \u001b[0mtab_content\u001b[0m \u001b[0;34m=\u001b[0m \u001b[0mf\u001b[0m\u001b[0;34m.\u001b[0m\u001b[0mread\u001b[0m\u001b[0;34m(\u001b[0m\u001b[0;34m)\u001b[0m\u001b[0;34m\u001b[0m\u001b[0;34m\u001b[0m\u001b[0m\n\u001b[1;32m      8\u001b[0m \u001b[0mf\u001b[0m\u001b[0;34m.\u001b[0m\u001b[0mclose\u001b[0m\u001b[0;34m(\u001b[0m\u001b[0;34m)\u001b[0m\u001b[0;34m\u001b[0m\u001b[0;34m\u001b[0m\u001b[0m\n",
            "\u001b[0;31mFileNotFoundError\u001b[0m: [Errno 2] No such file or directory: '-f'"
          ]
        }
      ]
    },
    {
      "cell_type": "markdown",
      "source": [
        "6-6"
      ],
      "metadata": {
        "id": "HXb78YfKY748"
      }
    },
    {
      "cell_type": "code",
      "source": [
        ""
      ],
      "metadata": {
        "id": "cx8eHS9KYMJ2"
      },
      "execution_count": null,
      "outputs": []
    }
  ]
}