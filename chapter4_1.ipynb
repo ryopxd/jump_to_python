{
  "nbformat": 4,
  "nbformat_minor": 0,
  "metadata": {
    "colab": {
      "name": "4장 연습문제.ipynb",
      "provenance": [],
      "authorship_tag": "ABX9TyPB6qcrcOyuIW/KRGF0q+GM",
      "include_colab_link": true
    },
    "kernelspec": {
      "name": "python3",
      "display_name": "Python 3"
    },
    "language_info": {
      "name": "python"
    }
  },
  "cells": [
    {
      "cell_type": "markdown",
      "metadata": {
        "id": "view-in-github",
        "colab_type": "text"
      },
      "source": [
        "<a href=\"https://colab.research.google.com/github/ryopxd/jump_to_python/blob/main/chapter4_1.ipynb\" target=\"_parent\"><img src=\"https://colab.research.google.com/assets/colab-badge.svg\" alt=\"Open In Colab\"/></a>"
      ]
    },
    {
      "cell_type": "markdown",
      "source": [
        "# 4장 연습문제"
      ],
      "metadata": {
        "id": "J6vsJ4aaZdaA"
      }
    },
    {
      "cell_type": "markdown",
      "source": [
        "Q1"
      ],
      "metadata": {
        "id": "1A8ddE4RZkKo"
      }
    },
    {
      "cell_type": "code",
      "source": [
        "def is_odd(a):\n",
        "  if a % 2 == 1:\n",
        "    print(\"홀수입니다.\")\n",
        "  else:\n",
        "    print(\"짝수입니다.\")\n",
        "\n"
      ],
      "metadata": {
        "id": "Bz27FOK3ZjLw"
      },
      "execution_count": null,
      "outputs": []
    },
    {
      "cell_type": "code",
      "source": [
        "is_odd(4)"
      ],
      "metadata": {
        "colab": {
          "base_uri": "https://localhost:8080/"
        },
        "id": "MriIoMfZZuSo",
        "outputId": "659bdf9a-d488-4034-b13f-b4ee777446b3"
      },
      "execution_count": null,
      "outputs": [
        {
          "output_type": "stream",
          "name": "stdout",
          "text": [
            "짝수입니다.\n"
          ]
        }
      ]
    },
    {
      "cell_type": "markdown",
      "source": [
        "Q2"
      ],
      "metadata": {
        "id": "7p2ffLesbV_X"
      }
    },
    {
      "cell_type": "code",
      "source": [
        "def mean(*args):\n",
        "  sum = 0\n",
        "  for i in args:\n",
        "    sum += i\n",
        "  ave = sum / len(args)\n",
        "  return ave"
      ],
      "metadata": {
        "id": "VrtcWRO7bUko"
      },
      "execution_count": null,
      "outputs": []
    },
    {
      "cell_type": "code",
      "source": [
        "mean(1, 2, 3, 4, 6)"
      ],
      "metadata": {
        "colab": {
          "base_uri": "https://localhost:8080/"
        },
        "id": "DWvmzBWMcz_P",
        "outputId": "6677555a-4ed8-4e6a-c459-2f2d51e2d405"
      },
      "execution_count": null,
      "outputs": [
        {
          "output_type": "execute_result",
          "data": {
            "text/plain": [
              "3.2"
            ]
          },
          "metadata": {},
          "execution_count": 10
        }
      ]
    },
    {
      "cell_type": "code",
      "source": [
        "input1 = input(\"첫번째 숫자를 입력하세요: \")\n",
        "input2 = input(\"두번째 숫자를 입력하세요: \")\n",
        "\n",
        "total = int(input1) + int(input2)\n",
        "print(\"두 수의 합은 %s 입니다.\" % total)"
      ],
      "metadata": {
        "colab": {
          "base_uri": "https://localhost:8080/"
        },
        "id": "IWwKpIlLc-9-",
        "outputId": "03f68aaa-0173-49a3-ead8-bd4f8cbc3664"
      },
      "execution_count": null,
      "outputs": [
        {
          "output_type": "stream",
          "name": "stdout",
          "text": [
            "첫번째 숫자를 입력하세요: 5\n",
            "두번째 숫자를 입력하세요: 3\n",
            "두 수의 합은 8 입니다.\n"
          ]
        }
      ]
    },
    {
      "cell_type": "markdown",
      "source": [
        "Q4 - 3번"
      ],
      "metadata": {
        "id": "iFDbPg5rddWe"
      }
    },
    {
      "cell_type": "code",
      "source": [
        "print(\" \".join([\"you\", \"need\", \"python\" ]))"
      ],
      "metadata": {
        "colab": {
          "base_uri": "https://localhost:8080/"
        },
        "id": "vNyV9EtndaEu",
        "outputId": "15816c09-0e76-4324-9c5f-2769d76cf97b"
      },
      "execution_count": null,
      "outputs": [
        {
          "output_type": "stream",
          "name": "stdout",
          "text": [
            "you need python\n"
          ]
        }
      ]
    },
    {
      "cell_type": "markdown",
      "source": [
        "Q5"
      ],
      "metadata": {
        "id": "xZtbSiTAd4ue"
      }
    },
    {
      "cell_type": "code",
      "source": [
        "f1 = open(\"test.txt\", 'w')\n",
        "f1.write(\"Life is too short\")\n",
        "f1.close()\n",
        "\n",
        "f2 = open(\"test.txt\", 'r')\n",
        "print(f2.read())\n",
        "f2.close()"
      ],
      "metadata": {
        "colab": {
          "base_uri": "https://localhost:8080/"
        },
        "id": "GEnaVMssd3s_",
        "outputId": "824f13b8-bee7-4059-e697-f28f63a40df5"
      },
      "execution_count": null,
      "outputs": [
        {
          "output_type": "stream",
          "name": "stdout",
          "text": [
            "Life is too short\n"
          ]
        }
      ]
    },
    {
      "cell_type": "markdown",
      "source": [
        "Q6"
      ],
      "metadata": {
        "id": "wC-EeOSPeTJu"
      }
    },
    {
      "cell_type": "code",
      "source": [
        "user_input = input(\"저장할 내용을 입력하세요: \")\n",
        "f = open(\"test.txt\", 'a')\n",
        "f.write(\"\\n\")\n",
        "f.write(user_input)\n",
        "\n",
        "f.close()"
      ],
      "metadata": {
        "colab": {
          "base_uri": "https://localhost:8080/"
        },
        "id": "PwTs7BrXeT-G",
        "outputId": "9d8c7cc0-36f4-4c4c-cbdd-0b3326c35feb"
      },
      "execution_count": null,
      "outputs": [
        {
          "name": "stdout",
          "output_type": "stream",
          "text": [
            "저장할 내용을 입력하세요: hi\n"
          ]
        }
      ]
    },
    {
      "cell_type": "markdown",
      "source": [
        "Q7"
      ],
      "metadata": {
        "id": "twBRrZdHea_O"
      }
    },
    {
      "cell_type": "code",
      "source": [
        "f = open(\"test.txt\", 'w')\n",
        "f.write(\"Life is too short\\nyou need java\")\n",
        "f.close()\n",
        "\n",
        "f = open(\"test.txt\", 'r')\n",
        "line = f.read()\n",
        "print(line)\n",
        "f.close()\n"
      ],
      "metadata": {
        "colab": {
          "base_uri": "https://localhost:8080/"
        },
        "id": "mHamPLk3eb2m",
        "outputId": "4e1b0964-2ab1-45be-a168-1c59059984ee"
      },
      "execution_count": null,
      "outputs": [
        {
          "output_type": "stream",
          "name": "stdout",
          "text": [
            "Life is too short\n",
            "you need java\n"
          ]
        }
      ]
    },
    {
      "cell_type": "code",
      "source": [
        "f = open(\"test.txt\", 'r')\n",
        "body = f.read()\n",
        "f.close()\n",
        "\n",
        "body = body.replace('java', 'python')\n",
        "\n",
        "f = open(\"test.txt\", 'w')\n",
        "f.write(body)\n",
        "f.close()"
      ],
      "metadata": {
        "id": "_VGbVsZefo_1"
      },
      "execution_count": null,
      "outputs": []
    },
    {
      "cell_type": "code",
      "source": [
        "f = open(\"test.txt\", 'r')\n",
        "read = f.read()\n",
        "f.close()\n",
        "\n",
        "print(read)"
      ],
      "metadata": {
        "colab": {
          "base_uri": "https://localhost:8080/"
        },
        "id": "kKNSIpUH4iVf",
        "outputId": "76a40a33-c815-46e4-88b0-b7271ec51b2a"
      },
      "execution_count": null,
      "outputs": [
        {
          "output_type": "stream",
          "name": "stdout",
          "text": [
            "Life is too short\n",
            "you need python\n"
          ]
        }
      ]
    }
  ]
}